{
 "metadata": {
  "name": ""
 },
 "nbformat": 3,
 "nbformat_minor": 0,
 "worksheets": [
  {
   "cells": [
    {
     "cell_type": "code",
     "collapsed": false,
     "input": [
      "from pattern.web import *\n",
      "from pattern.vector import *\n",
      "from nltk.corpus import gutenberg"
     ],
     "language": "python",
     "metadata": {},
     "outputs": [],
     "prompt_number": 117
    },
    {
     "cell_type": "code",
     "collapsed": false,
     "input": [
      "url = URL(string='http://www.wheatoncollege.edu', method=GET, query={})\n",
      "print url"
     ],
     "language": "python",
     "metadata": {},
     "outputs": [
      {
       "output_type": "stream",
       "stream": "stdout",
       "text": [
        "http://www.wheatoncollege.edu/\n"
       ]
      }
     ],
     "prompt_number": 30
    },
    {
     "cell_type": "markdown",
     "metadata": {},
     "source": [
      "**Generate three samples with three documents each - Austen, Shakespeare, and Chesterton. Generate one total corpus of nine documents.**"
     ]
    },
    {
     "cell_type": "code",
     "collapsed": false,
     "input": [
      "corpora = []\n",
      "all_docs = []\n",
      "for i in [\"austen\", \"shakespeare\", \"chesterton\"]:\n",
      "    single_author_docs = [Document(gutenberg.raw(x), stemmer = LEMMA, name = x) for x in gutenberg.fileids() if x.find(i) != -1]\n",
      "    corpora.append(single_author_docs)\n",
      "    for j in single_author_docs:\n",
      "        all_docs.append(j)\n",
      "corpora.append(all_docs)"
     ],
     "language": "python",
     "metadata": {},
     "outputs": [],
     "prompt_number": 79
    },
    {
     "cell_type": "code",
     "collapsed": false,
     "input": [
      "austen_model = Model(corpora[0], weight=TFIDF)\n",
      "shakespeare_model = Model(corpora[1], weight=TFIDF)\n",
      "chesterton_model = Model(corpora[2], weight=TFIDF)\n",
      "all_model = Model(corpora[3], weight=TFIDF)"
     ],
     "language": "python",
     "metadata": {},
     "outputs": [],
     "prompt_number": 80
    },
    {
     "cell_type": "code",
     "collapsed": false,
     "input": [
      "hier = all_model.cluster(method = HIERARCHICAL, k = 1, iterations = 1000, distance = COSINE)"
     ],
     "language": "python",
     "metadata": {},
     "outputs": [],
     "prompt_number": 118
    },
    {
     "cell_type": "code",
     "collapsed": false,
     "input": [
      "hier.flatten(2)"
     ],
     "language": "python",
     "metadata": {},
     "outputs": [
      {
       "metadata": {},
       "output_type": "pyout",
       "prompt_number": 120,
       "text": [
        "[Document(id='OdPaOm3-36', name='shakespeare-caesar.txt'),\n",
        " Cluster([Document(id='OdPaOm3-38', name='shakespeare-macbeth.txt'), Document(id='OdPaOm3-37', name='shakespeare-hamlet.txt')]),\n",
        " Cluster([Document(id='OdPaOm3-41', name='chesterton-thursday.txt'), Cluster([Document(id='OdPaOm3-40', name='chesterton-brown.txt'), Document(id='OdPaOm3-39', name='chesterton-ball.txt')])]),\n",
        " Cluster([Document(id='OdPaOm3-35', name='austen-sense.txt'), Cluster([Document(id='OdPaOm3-33', name='austen-emma.txt'), Document(id='OdPaOm3-34', name='austen-persuasion.txt')])])]"
       ]
      }
     ],
     "prompt_number": 120
    },
    {
     "cell_type": "code",
     "collapsed": false,
     "input": [],
     "language": "python",
     "metadata": {},
     "outputs": []
    }
   ],
   "metadata": {}
  }
 ]
}